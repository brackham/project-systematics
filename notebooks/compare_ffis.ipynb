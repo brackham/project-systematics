{
 "metadata": {
  "language_info": {
   "codemirror_mode": {
    "name": "ipython",
    "version": 3
   },
   "file_extension": ".py",
   "mimetype": "text/x-python",
   "name": "python",
   "nbconvert_exporter": "python",
   "pygments_lexer": "ipython3",
   "version": "3.7.9-final"
  },
  "orig_nbformat": 2,
  "kernelspec": {
   "name": "python37964bitafc62a7a64924ffe8c60e994cd335a0f",
   "display_name": "Python 3.7.9 64-bit"
  }
 },
 "nbformat": 4,
 "nbformat_minor": 2,
 "cells": [
  {
   "cell_type": "markdown",
   "metadata": {},
   "source": [
    "Side-by-side looks at the FFIs from Kepler and TESS for targets where those match up in time!"
   ]
  },
  {
   "cell_type": "code",
   "execution_count": 76,
   "metadata": {},
   "outputs": [],
   "source": [
    "from astroquery.mast import Observations, Catalogs, Tesscut\n",
    "import pandas as pd\n",
    "import numpy as np"
   ]
  },
  {
   "cell_type": "code",
   "execution_count": 72,
   "metadata": {
    "tags": []
   },
   "outputs": [],
   "source": [
    "# from https://iopscience.iop.org/2515-5172/2/4/192/suppdata/rnaasaae9e2t1_mrt.txt\n",
    "cols = [\"EPIC\", \"TICID\", \"DR2Name\", \"RADeg\", \"DEDeg\"]\n",
    "dfdict = {c : [] for c in cols}\n",
    "charlimits = [0, 9, 19, 39, 51, 63]\n",
    "with open(\"../data/kepler_tess_simultaneous_targets.txt\") as f:\n",
    "    allrows = f.read().split('\\n')[27:]\n",
    "    for row in allrows[:-1]:\n",
    "        for i, col in enumerate(cols):\n",
    "            if any([x != \" \" for x in row[charlimits[i]:charlimits[i+1]]]):\n",
    "                target_dtype = int if i < 3 else float\n",
    "                val = target_dtype(row[charlimits[i]:charlimits[i+1]])\n",
    "                dfdict[col].append(val)\n",
    "            else:\n",
    "                dfdict[col].append(np.nan)\n",
    "    \n",
    "    simultaneous_targets = pd.DataFrame(data=dfdict, columns=cols).fillna(0).astype({\"EPIC\" : int, \"TICID\" : int, \"DR2Name\" : int, \"RADeg\" : float, \"DEDeg\" : float})\n"
   ]
  },
  {
   "cell_type": "code",
   "execution_count": 73,
   "metadata": {},
   "outputs": [
    {
     "output_type": "execute_result",
     "data": {
      "text/plain": "          EPIC    TICID              DR2Name       RADeg      DEDeg\n0    245925582  4554210  2413051302797084672  347.998206 -11.933554\n1    245929348  4579916  2413014469157323264  348.407601 -11.749342\n2    245931711  4582469  2413392224416454656  348.516775 -11.629405\n3    245927251  4520668  2413067451874115584  347.867863 -11.852871\n4    245933030  4579787  2413442527073427456  348.275732 -11.566588\n..         ...      ...                  ...         ...        ...\n166  251816599  4579843  2413059171176940544  348.279026 -11.809766\n167  251816601  4520629                    0  347.835192 -11.809116\n168  245930077  4579923                    0  348.431760 -11.713218\n169  251816651        0                    0  349.426691 -11.090669\n170  251813843        0  2413062366633174016  348.254125 -11.703504\n\n[171 rows x 5 columns]",
      "text/html": "<div>\n<style scoped>\n    .dataframe tbody tr th:only-of-type {\n        vertical-align: middle;\n    }\n\n    .dataframe tbody tr th {\n        vertical-align: top;\n    }\n\n    .dataframe thead th {\n        text-align: right;\n    }\n</style>\n<table border=\"1\" class=\"dataframe\">\n  <thead>\n    <tr style=\"text-align: right;\">\n      <th></th>\n      <th>EPIC</th>\n      <th>TICID</th>\n      <th>DR2Name</th>\n      <th>RADeg</th>\n      <th>DEDeg</th>\n    </tr>\n  </thead>\n  <tbody>\n    <tr>\n      <th>0</th>\n      <td>245925582</td>\n      <td>4554210</td>\n      <td>2413051302797084672</td>\n      <td>347.998206</td>\n      <td>-11.933554</td>\n    </tr>\n    <tr>\n      <th>1</th>\n      <td>245929348</td>\n      <td>4579916</td>\n      <td>2413014469157323264</td>\n      <td>348.407601</td>\n      <td>-11.749342</td>\n    </tr>\n    <tr>\n      <th>2</th>\n      <td>245931711</td>\n      <td>4582469</td>\n      <td>2413392224416454656</td>\n      <td>348.516775</td>\n      <td>-11.629405</td>\n    </tr>\n    <tr>\n      <th>3</th>\n      <td>245927251</td>\n      <td>4520668</td>\n      <td>2413067451874115584</td>\n      <td>347.867863</td>\n      <td>-11.852871</td>\n    </tr>\n    <tr>\n      <th>4</th>\n      <td>245933030</td>\n      <td>4579787</td>\n      <td>2413442527073427456</td>\n      <td>348.275732</td>\n      <td>-11.566588</td>\n    </tr>\n    <tr>\n      <th>...</th>\n      <td>...</td>\n      <td>...</td>\n      <td>...</td>\n      <td>...</td>\n      <td>...</td>\n    </tr>\n    <tr>\n      <th>166</th>\n      <td>251816599</td>\n      <td>4579843</td>\n      <td>2413059171176940544</td>\n      <td>348.279026</td>\n      <td>-11.809766</td>\n    </tr>\n    <tr>\n      <th>167</th>\n      <td>251816601</td>\n      <td>4520629</td>\n      <td>0</td>\n      <td>347.835192</td>\n      <td>-11.809116</td>\n    </tr>\n    <tr>\n      <th>168</th>\n      <td>245930077</td>\n      <td>4579923</td>\n      <td>0</td>\n      <td>348.431760</td>\n      <td>-11.713218</td>\n    </tr>\n    <tr>\n      <th>169</th>\n      <td>251816651</td>\n      <td>0</td>\n      <td>0</td>\n      <td>349.426691</td>\n      <td>-11.090669</td>\n    </tr>\n    <tr>\n      <th>170</th>\n      <td>251813843</td>\n      <td>0</td>\n      <td>2413062366633174016</td>\n      <td>348.254125</td>\n      <td>-11.703504</td>\n    </tr>\n  </tbody>\n</table>\n<p>171 rows × 5 columns</p>\n</div>"
     },
     "metadata": {},
     "execution_count": 73
    }
   ],
   "source": [
    "simultaneous_targets"
   ]
  },
  {
   "cell_type": "code",
   "execution_count": 74,
   "metadata": {
    "tags": []
   },
   "outputs": [
    {
     "output_type": "stream",
     "name": "stdout",
     "text": "INFO: Found cached file /Users/adityasengupta/.eleanor/mastDownload/HLSP/hlsp_eleanor_tess_ffi_postcard-s0002-1-3-cal-1882-0052_tess_v2_pc/hlsp_eleanor_tess_ffi_postcard-s0002-1-3-cal-1882-0052_tess_v2_bkg.fits with expected size 76677120. [astroquery.query]\nINFO: Found cached file /Users/adityasengupta/.eleanor/mastDownload/HLSP/hlsp_eleanor_tess_ffi_postcard-s0002-1-3-cal-1882-0052_tess_v2_pc/hlsp_eleanor_tess_ffi_postcard-s0002-1-3-cal-1882-0052_tess_v2_pc.fits with expected size 153463680. [astroquery.query]\nINFO: Found cached file /Users/adityasengupta/.eleanor/mastDownload/HLSP/hlsp_eleanor_tess_ffi_postcard-s0002-1-3-cal-1882-0052_tess_v2_pc/hlsp_eleanor_tess_ffi_postcard-s0002-1-3_tess_v2_pm.txt with expected size 232650. [astroquery.query]\n"
    }
   ],
   "source": [
    "idx = 100 # or any other number 0-170\n",
    "epic, ticid = (int(simultaneous_targets.loc[100][i]) for i in [0, 1])\n",
    "# first, I'm interested in time-sync: when did TESS look at this, and when did K2 look at it?\n",
    "# assume for what follows that I've got the correct sector of TESS data"
   ]
  },
  {
   "cell_type": "code",
   "execution_count": null,
   "metadata": {},
   "outputs": [],
   "source": []
  }
 ]
}