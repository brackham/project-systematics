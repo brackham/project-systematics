{
 "metadata": {
  "language_info": {
   "codemirror_mode": {
    "name": "ipython",
    "version": 3
   },
   "file_extension": ".py",
   "mimetype": "text/x-python",
   "name": "python",
   "nbconvert_exporter": "python",
   "pygments_lexer": "ipython3",
   "version": "3.7.9-final"
  },
  "orig_nbformat": 2,
  "kernelspec": {
   "name": "python37964bitafc62a7a64924ffe8c60e994cd335a0f",
   "display_name": "Python 3.7.9 64-bit"
  }
 },
 "nbformat": 4,
 "nbformat_minor": 2,
 "cells": [
  {
   "cell_type": "markdown",
   "metadata": {},
   "source": [
    "Side-by-side looks at the FFIs from Kepler and TESS for targets where those match up in time!"
   ]
  },
  {
   "cell_type": "code",
   "execution_count": 134,
   "metadata": {},
   "outputs": [],
   "source": [
    "from astroquery.mast import Observations, Catalogs, Tesscut\n",
    "import astropy\n",
    "from astropy.coordinates import SkyCoord\n",
    "import pandas as pd\n",
    "import numpy as np\n",
    "from matplotlib import pyplot as plt"
   ]
  },
  {
   "cell_type": "code",
   "execution_count": 120,
   "metadata": {
    "tags": []
   },
   "outputs": [],
   "source": [
    "# from https://iopscience.iop.org/2515-5172/2/4/192/suppdata/rnaasaae9e2t1_mrt.txt\n",
    "cols = [\"EPIC\", \"TICID\", \"DR2Name\", \"RADeg\", \"DEDeg\"]\n",
    "dfdict = {c : [] for c in cols}\n",
    "charlimits = [0, 9, 19, 39, 51, 63]\n",
    "with open(\"../data/kepler_tess_simultaneous_targets.txt\") as f:\n",
    "    allrows = f.read().split('\\n')[27:]\n",
    "    for row in allrows[:-1]:\n",
    "        for i, col in enumerate(cols):\n",
    "            if any([x != \" \" for x in row[charlimits[i]:charlimits[i+1]]]):\n",
    "                target_dtype = int if i < 3 else float\n",
    "                val = target_dtype(row[charlimits[i]:charlimits[i+1]])\n",
    "                dfdict[col].append(val)\n",
    "            else:\n",
    "                dfdict[col].append(np.nan)\n",
    "    \n",
    "    simultaneous_targets = pd.DataFrame(data=dfdict, columns=cols).fillna(0).astype({\"EPIC\" : int, \"TICID\" : int, \"DR2Name\" : int, \"RADeg\" : float, \"DEDeg\" : float})\n",
    "\n",
    "allstars = pd.read_csv(\"~/projects/pals/tesscomp-prototyping/data/tesstargets/tess_stellar_all.csv\") # local file generated from my \"tessdataproducts\" module's \"stellar:get_tess_stellar_catalog\" method: change the path if you're running this/I'll upload the CSV somewhere\n",
    "get_sectors = lambda ticid: allstars[\"sectors\"].values[np.where(ticid == allstars[\"ticid\"])]"
   ]
  },
  {
   "cell_type": "code",
   "execution_count": 73,
   "metadata": {},
   "outputs": [
    {
     "output_type": "execute_result",
     "data": {
      "text/plain": "          EPIC    TICID              DR2Name       RADeg      DEDeg\n0    245925582  4554210  2413051302797084672  347.998206 -11.933554\n1    245929348  4579916  2413014469157323264  348.407601 -11.749342\n2    245931711  4582469  2413392224416454656  348.516775 -11.629405\n3    245927251  4520668  2413067451874115584  347.867863 -11.852871\n4    245933030  4579787  2413442527073427456  348.275732 -11.566588\n..         ...      ...                  ...         ...        ...\n166  251816599  4579843  2413059171176940544  348.279026 -11.809766\n167  251816601  4520629                    0  347.835192 -11.809116\n168  245930077  4579923                    0  348.431760 -11.713218\n169  251816651        0                    0  349.426691 -11.090669\n170  251813843        0  2413062366633174016  348.254125 -11.703504\n\n[171 rows x 5 columns]",
      "text/html": "<div>\n<style scoped>\n    .dataframe tbody tr th:only-of-type {\n        vertical-align: middle;\n    }\n\n    .dataframe tbody tr th {\n        vertical-align: top;\n    }\n\n    .dataframe thead th {\n        text-align: right;\n    }\n</style>\n<table border=\"1\" class=\"dataframe\">\n  <thead>\n    <tr style=\"text-align: right;\">\n      <th></th>\n      <th>EPIC</th>\n      <th>TICID</th>\n      <th>DR2Name</th>\n      <th>RADeg</th>\n      <th>DEDeg</th>\n    </tr>\n  </thead>\n  <tbody>\n    <tr>\n      <th>0</th>\n      <td>245925582</td>\n      <td>4554210</td>\n      <td>2413051302797084672</td>\n      <td>347.998206</td>\n      <td>-11.933554</td>\n    </tr>\n    <tr>\n      <th>1</th>\n      <td>245929348</td>\n      <td>4579916</td>\n      <td>2413014469157323264</td>\n      <td>348.407601</td>\n      <td>-11.749342</td>\n    </tr>\n    <tr>\n      <th>2</th>\n      <td>245931711</td>\n      <td>4582469</td>\n      <td>2413392224416454656</td>\n      <td>348.516775</td>\n      <td>-11.629405</td>\n    </tr>\n    <tr>\n      <th>3</th>\n      <td>245927251</td>\n      <td>4520668</td>\n      <td>2413067451874115584</td>\n      <td>347.867863</td>\n      <td>-11.852871</td>\n    </tr>\n    <tr>\n      <th>4</th>\n      <td>245933030</td>\n      <td>4579787</td>\n      <td>2413442527073427456</td>\n      <td>348.275732</td>\n      <td>-11.566588</td>\n    </tr>\n    <tr>\n      <th>...</th>\n      <td>...</td>\n      <td>...</td>\n      <td>...</td>\n      <td>...</td>\n      <td>...</td>\n    </tr>\n    <tr>\n      <th>166</th>\n      <td>251816599</td>\n      <td>4579843</td>\n      <td>2413059171176940544</td>\n      <td>348.279026</td>\n      <td>-11.809766</td>\n    </tr>\n    <tr>\n      <th>167</th>\n      <td>251816601</td>\n      <td>4520629</td>\n      <td>0</td>\n      <td>347.835192</td>\n      <td>-11.809116</td>\n    </tr>\n    <tr>\n      <th>168</th>\n      <td>245930077</td>\n      <td>4579923</td>\n      <td>0</td>\n      <td>348.431760</td>\n      <td>-11.713218</td>\n    </tr>\n    <tr>\n      <th>169</th>\n      <td>251816651</td>\n      <td>0</td>\n      <td>0</td>\n      <td>349.426691</td>\n      <td>-11.090669</td>\n    </tr>\n    <tr>\n      <th>170</th>\n      <td>251813843</td>\n      <td>0</td>\n      <td>2413062366633174016</td>\n      <td>348.254125</td>\n      <td>-11.703504</td>\n    </tr>\n  </tbody>\n</table>\n<p>171 rows × 5 columns</p>\n</div>"
     },
     "metadata": {},
     "execution_count": 73
    }
   ],
   "source": [
    "simultaneous_targets"
   ]
  },
  {
   "cell_type": "code",
   "execution_count": null,
   "metadata": {
    "tags": []
   },
   "outputs": [],
   "source": [
    "idx = 1 # or any other number 0-170\n",
    "get_dtype = lambda i: int if i < 3 else float\n",
    "epic, ticid, ra, dec = (get_dtype(i)(simultaneous_targets.loc[idx][i]) for i in [0, 1, 3, 4])\n",
    "\n",
    "# first, I'm interested in time-sync: when did TESS look at this, and when did K2 look at it?\n",
    "# assume for what follows that I've got the correct sector of TESS data\n",
    "\n",
    "def get_TPF_TESS(ID:int, ra:float, dec:float, sector:int):\n",
    "    \"\"\"\n",
    "    Queries TIC for a target star and returns its TPF.\n",
    "    Args:\n",
    "        ID (int): TIC ID of the target.\n",
    "        sectors (numpy array): Sectors in which the target has been observed.\n",
    "    Returns:\n",
    "        TPF (numpy array): Time-series FFI of the target. \n",
    "        time (numpy array): Times corresponding to each image.\n",
    "    \"\"\"\n",
    "    \n",
    "    # find coordinates of the target\n",
    "    df = Catalogs.query_object(\"TIC\"+str(ID), radius=0.0001, catalog=\"TIC\").to_pandas()\n",
    "    # get the TPF with TESScut\n",
    "    cutout_coord = SkyCoord(ra, dec, unit=\"deg\")\n",
    "    cutout_hdu = Tesscut.get_cutouts(cutout_coord, size=20, sector=sector)[0]\n",
    "    TPF = cutout_hdu[1].data[\"Flux\"]\n",
    "    time = cutout_hdu[1].data[\"Time\"]\n",
    "    return TPF, time\n",
    "\n",
    "def get_TPF_K2(ID:str, ra:float, dec:float):\n",
    "    \"\"\"\n",
    "    Queries EPIC for a target star and returns its TPF.\n",
    "    Args:\n",
    "        ID (int): EPIC ID of the target.\n",
    "        sectors (numpy array): Sectors in which the target has been observed.\n",
    "    Returns:\n",
    "        TPF (numpy array): Time-series FFI of the target. \n",
    "        time (numpy array): Times corresponding to each image.\n",
    "    \"\"\"\n",
    "    \n",
    "    # find coordinates of the target\n",
    "    df = Catalogs.query_object(ID, radius=0.0001, catalog=\"EPIC\").to_pandas()\n",
    "    # get the TPF with TESScut\n",
    "    cutout_coord = SkyCoord(ra, dec, unit=\"deg\")\n",
    "    cutout_hdu = Tesscut.get_cutouts(cutout_coord, size=20)[0]\n",
    "    TPF = cutout_hdu[1].data[\"Flux\"]\n",
    "    time = cutout_hdu[1].data[\"Time\"]\n",
    "    return TPF, time"
   ]
  },
  {
   "cell_type": "code",
   "execution_count": 155,
   "metadata": {
    "tags": []
   },
   "outputs": [
    {
     "output_type": "error",
     "ename": "NameError",
     "evalue": "name 'RemoteServiceError' is not defined",
     "traceback": [
      "\u001b[0;31m---------------------------------------------------------------------------\u001b[0m",
      "\u001b[0;31mNameError\u001b[0m                                 Traceback (most recent call last)",
      "\u001b[0;32m<ipython-input-155-e247b43241c7>\u001b[0m in \u001b[0;36m<module>\u001b[0;34m\u001b[0m\n\u001b[1;32m      1\u001b[0m \u001b[0mtess_ffi\u001b[0m\u001b[0;34m,\u001b[0m \u001b[0mtess_time\u001b[0m \u001b[0;34m=\u001b[0m \u001b[0mget_TPF_TESS\u001b[0m\u001b[0;34m(\u001b[0m\u001b[0mticid\u001b[0m\u001b[0;34m,\u001b[0m \u001b[0mra\u001b[0m\u001b[0;34m,\u001b[0m \u001b[0mdec\u001b[0m\u001b[0;34m,\u001b[0m \u001b[0mint\u001b[0m\u001b[0;34m(\u001b[0m\u001b[0mget_sectors\u001b[0m\u001b[0;34m(\u001b[0m\u001b[0mticid\u001b[0m\u001b[0;34m)\u001b[0m\u001b[0;34m[\u001b[0m\u001b[0;36m0\u001b[0m\u001b[0;34m]\u001b[0m\u001b[0;34m.\u001b[0m\u001b[0msplit\u001b[0m\u001b[0;34m(\u001b[0m\u001b[0;34m\",\"\u001b[0m\u001b[0;34m)\u001b[0m\u001b[0;34m[\u001b[0m\u001b[0;36m0\u001b[0m\u001b[0;34m]\u001b[0m\u001b[0;34m)\u001b[0m\u001b[0;34m)\u001b[0m\u001b[0;34m\u001b[0m\u001b[0;34m\u001b[0m\u001b[0m\n\u001b[0;32m----> 2\u001b[0;31m \u001b[0mk2_ffi\u001b[0m\u001b[0;34m,\u001b[0m \u001b[0mk2_time\u001b[0m \u001b[0;34m=\u001b[0m \u001b[0mget_TPF_K2\u001b[0m\u001b[0;34m(\u001b[0m\u001b[0mepic\u001b[0m\u001b[0;34m,\u001b[0m \u001b[0mra\u001b[0m\u001b[0;34m,\u001b[0m \u001b[0mdec\u001b[0m\u001b[0;34m)\u001b[0m\u001b[0;34m\u001b[0m\u001b[0;34m\u001b[0m\u001b[0m\n\u001b[0m",
      "\u001b[0;32m<ipython-input-153-fa00dca707d3>\u001b[0m in \u001b[0;36mget_TPF_K2\u001b[0;34m(ID, ra, dec)\u001b[0m\n\u001b[1;32m     38\u001b[0m \u001b[0;34m\u001b[0m\u001b[0m\n\u001b[1;32m     39\u001b[0m     \u001b[0;31m# find coordinates of the target\u001b[0m\u001b[0;34m\u001b[0m\u001b[0;34m\u001b[0m\u001b[0;34m\u001b[0m\u001b[0m\n\u001b[0;32m---> 40\u001b[0;31m     \u001b[0mdf\u001b[0m \u001b[0;34m=\u001b[0m \u001b[0mCatalogs\u001b[0m\u001b[0;34m.\u001b[0m\u001b[0mquery_object\u001b[0m\u001b[0;34m(\u001b[0m\u001b[0mID\u001b[0m\u001b[0;34m,\u001b[0m \u001b[0mradius\u001b[0m\u001b[0;34m=\u001b[0m\u001b[0;36m0.0001\u001b[0m\u001b[0;34m,\u001b[0m \u001b[0mcatalog\u001b[0m\u001b[0;34m=\u001b[0m\u001b[0;34m\"EPIC\"\u001b[0m\u001b[0;34m)\u001b[0m\u001b[0;34m.\u001b[0m\u001b[0mto_pandas\u001b[0m\u001b[0;34m(\u001b[0m\u001b[0;34m)\u001b[0m\u001b[0;34m\u001b[0m\u001b[0;34m\u001b[0m\u001b[0m\n\u001b[0m\u001b[1;32m     41\u001b[0m     \u001b[0;31m# get the TPF with TESScut\u001b[0m\u001b[0;34m\u001b[0m\u001b[0;34m\u001b[0m\u001b[0;34m\u001b[0m\u001b[0m\n\u001b[1;32m     42\u001b[0m     \u001b[0mcutout_coord\u001b[0m \u001b[0;34m=\u001b[0m \u001b[0mSkyCoord\u001b[0m\u001b[0;34m(\u001b[0m\u001b[0mra\u001b[0m\u001b[0;34m,\u001b[0m \u001b[0mdec\u001b[0m\u001b[0;34m,\u001b[0m \u001b[0munit\u001b[0m\u001b[0;34m=\u001b[0m\u001b[0;34m\"deg\"\u001b[0m\u001b[0;34m)\u001b[0m\u001b[0;34m\u001b[0m\u001b[0;34m\u001b[0m\u001b[0m\n",
      "\u001b[0;32m~/opt/anaconda3/envs/ots/lib/python3.7/site-packages/astroquery/utils/class_or_instance.py\u001b[0m in \u001b[0;36mf\u001b[0;34m(*args, **kwds)\u001b[0m\n\u001b[1;32m     23\u001b[0m         \u001b[0;32mdef\u001b[0m \u001b[0mf\u001b[0m\u001b[0;34m(\u001b[0m\u001b[0;34m*\u001b[0m\u001b[0margs\u001b[0m\u001b[0;34m,\u001b[0m \u001b[0;34m**\u001b[0m\u001b[0mkwds\u001b[0m\u001b[0;34m)\u001b[0m\u001b[0;34m:\u001b[0m\u001b[0;34m\u001b[0m\u001b[0;34m\u001b[0m\u001b[0m\n\u001b[1;32m     24\u001b[0m             \u001b[0;32mif\u001b[0m \u001b[0mobj\u001b[0m \u001b[0;32mis\u001b[0m \u001b[0;32mnot\u001b[0m \u001b[0;32mNone\u001b[0m\u001b[0;34m:\u001b[0m\u001b[0;34m\u001b[0m\u001b[0;34m\u001b[0m\u001b[0m\n\u001b[0;32m---> 25\u001b[0;31m                 \u001b[0;32mreturn\u001b[0m \u001b[0mself\u001b[0m\u001b[0;34m.\u001b[0m\u001b[0mfn\u001b[0m\u001b[0;34m(\u001b[0m\u001b[0mobj\u001b[0m\u001b[0;34m,\u001b[0m \u001b[0;34m*\u001b[0m\u001b[0margs\u001b[0m\u001b[0;34m,\u001b[0m \u001b[0;34m**\u001b[0m\u001b[0mkwds\u001b[0m\u001b[0;34m)\u001b[0m\u001b[0;34m\u001b[0m\u001b[0;34m\u001b[0m\u001b[0m\n\u001b[0m\u001b[1;32m     26\u001b[0m             \u001b[0;32melse\u001b[0m\u001b[0;34m:\u001b[0m\u001b[0;34m\u001b[0m\u001b[0;34m\u001b[0m\u001b[0m\n\u001b[1;32m     27\u001b[0m                 \u001b[0;32mreturn\u001b[0m \u001b[0mself\u001b[0m\u001b[0;34m.\u001b[0m\u001b[0mfn\u001b[0m\u001b[0;34m(\u001b[0m\u001b[0mcls\u001b[0m\u001b[0;34m,\u001b[0m \u001b[0;34m*\u001b[0m\u001b[0margs\u001b[0m\u001b[0;34m,\u001b[0m \u001b[0;34m**\u001b[0m\u001b[0mkwds\u001b[0m\u001b[0;34m)\u001b[0m\u001b[0;34m\u001b[0m\u001b[0;34m\u001b[0m\u001b[0m\n",
      "\u001b[0;32m~/opt/anaconda3/envs/ots/lib/python3.7/site-packages/astroquery/utils/process_asyncs.py\u001b[0m in \u001b[0;36mnewmethod\u001b[0;34m(self, *args, **kwargs)\u001b[0m\n\u001b[1;32m     27\u001b[0m             \u001b[0;32mif\u001b[0m \u001b[0mkwargs\u001b[0m\u001b[0;34m.\u001b[0m\u001b[0mget\u001b[0m\u001b[0;34m(\u001b[0m\u001b[0;34m'get_query_payload'\u001b[0m\u001b[0;34m)\u001b[0m \u001b[0;32mor\u001b[0m \u001b[0mkwargs\u001b[0m\u001b[0;34m.\u001b[0m\u001b[0mget\u001b[0m\u001b[0;34m(\u001b[0m\u001b[0;34m'field_help'\u001b[0m\u001b[0;34m)\u001b[0m\u001b[0;34m:\u001b[0m\u001b[0;34m\u001b[0m\u001b[0;34m\u001b[0m\u001b[0m\n\u001b[1;32m     28\u001b[0m                 \u001b[0;32mreturn\u001b[0m \u001b[0mresponse\u001b[0m\u001b[0;34m\u001b[0m\u001b[0;34m\u001b[0m\u001b[0m\n\u001b[0;32m---> 29\u001b[0;31m             \u001b[0mresult\u001b[0m \u001b[0;34m=\u001b[0m \u001b[0mself\u001b[0m\u001b[0;34m.\u001b[0m\u001b[0m_parse_result\u001b[0m\u001b[0;34m(\u001b[0m\u001b[0mresponse\u001b[0m\u001b[0;34m,\u001b[0m \u001b[0mverbose\u001b[0m\u001b[0;34m=\u001b[0m\u001b[0mverbose\u001b[0m\u001b[0;34m)\u001b[0m\u001b[0;34m\u001b[0m\u001b[0;34m\u001b[0m\u001b[0m\n\u001b[0m\u001b[1;32m     30\u001b[0m             \u001b[0mself\u001b[0m\u001b[0;34m.\u001b[0m\u001b[0mtable\u001b[0m \u001b[0;34m=\u001b[0m \u001b[0mresult\u001b[0m\u001b[0;34m\u001b[0m\u001b[0;34m\u001b[0m\u001b[0m\n\u001b[1;32m     31\u001b[0m             \u001b[0;32mreturn\u001b[0m \u001b[0mresult\u001b[0m\u001b[0;34m\u001b[0m\u001b[0;34m\u001b[0m\u001b[0m\n",
      "\u001b[0;32m~/opt/anaconda3/envs/ots/lib/python3.7/site-packages/astroquery/mast/collections.py\u001b[0m in \u001b[0;36m_parse_result\u001b[0;34m(self, response, verbose)\u001b[0m\n\u001b[1;32m     50\u001b[0m     \u001b[0;32mdef\u001b[0m \u001b[0m_parse_result\u001b[0m\u001b[0;34m(\u001b[0m\u001b[0mself\u001b[0m\u001b[0;34m,\u001b[0m \u001b[0mresponse\u001b[0m\u001b[0;34m,\u001b[0m \u001b[0mverbose\u001b[0m\u001b[0;34m=\u001b[0m\u001b[0;32mFalse\u001b[0m\u001b[0;34m)\u001b[0m\u001b[0;34m:\u001b[0m\u001b[0;34m\u001b[0m\u001b[0;34m\u001b[0m\u001b[0m\n\u001b[1;32m     51\u001b[0m \u001b[0;34m\u001b[0m\u001b[0m\n\u001b[0;32m---> 52\u001b[0;31m         \u001b[0mresults_table\u001b[0m \u001b[0;34m=\u001b[0m \u001b[0mself\u001b[0m\u001b[0;34m.\u001b[0m\u001b[0m_current_connection\u001b[0m\u001b[0;34m.\u001b[0m\u001b[0m_parse_result\u001b[0m\u001b[0;34m(\u001b[0m\u001b[0mresponse\u001b[0m\u001b[0;34m,\u001b[0m \u001b[0mverbose\u001b[0m\u001b[0;34m)\u001b[0m\u001b[0;34m\u001b[0m\u001b[0;34m\u001b[0m\u001b[0m\n\u001b[0m\u001b[1;32m     53\u001b[0m \u001b[0;34m\u001b[0m\u001b[0m\n\u001b[1;32m     54\u001b[0m         \u001b[0;32mif\u001b[0m \u001b[0mlen\u001b[0m\u001b[0;34m(\u001b[0m\u001b[0mresults_table\u001b[0m\u001b[0;34m)\u001b[0m \u001b[0;34m==\u001b[0m \u001b[0mself\u001b[0m\u001b[0;34m.\u001b[0m\u001b[0mcatalog_limit\u001b[0m\u001b[0;34m:\u001b[0m\u001b[0;34m\u001b[0m\u001b[0;34m\u001b[0m\u001b[0m\n",
      "\u001b[0;32m~/opt/anaconda3/envs/ots/lib/python3.7/site-packages/astroquery/mast/discovery_portal.py\u001b[0m in \u001b[0;36m_parse_result\u001b[0;34m(self, responses, verbose)\u001b[0m\n\u001b[1;32m    289\u001b[0m             \u001b[0;31m# check for error message\u001b[0m\u001b[0;34m\u001b[0m\u001b[0;34m\u001b[0m\u001b[0;34m\u001b[0m\u001b[0m\n\u001b[1;32m    290\u001b[0m             \u001b[0;32mif\u001b[0m \u001b[0mresult\u001b[0m\u001b[0;34m[\u001b[0m\u001b[0;34m'status'\u001b[0m\u001b[0;34m]\u001b[0m \u001b[0;34m==\u001b[0m \u001b[0;34m\"ERROR\"\u001b[0m\u001b[0;34m:\u001b[0m\u001b[0;34m\u001b[0m\u001b[0;34m\u001b[0m\u001b[0m\n\u001b[0;32m--> 291\u001b[0;31m                 \u001b[0;32mraise\u001b[0m \u001b[0mRemoteServiceError\u001b[0m\u001b[0;34m(\u001b[0m\u001b[0mresult\u001b[0m\u001b[0;34m.\u001b[0m\u001b[0mget\u001b[0m\u001b[0;34m(\u001b[0m\u001b[0;34m'msg'\u001b[0m\u001b[0;34m,\u001b[0m \u001b[0;34m\"There was an error with your request.\"\u001b[0m\u001b[0;34m)\u001b[0m\u001b[0;34m)\u001b[0m\u001b[0;34m\u001b[0m\u001b[0;34m\u001b[0m\u001b[0m\n\u001b[0m\u001b[1;32m    292\u001b[0m \u001b[0;34m\u001b[0m\u001b[0m\n\u001b[1;32m    293\u001b[0m             \u001b[0mresult_table\u001b[0m \u001b[0;34m=\u001b[0m \u001b[0m_json_to_table\u001b[0m\u001b[0;34m(\u001b[0m\u001b[0mresult\u001b[0m\u001b[0;34m,\u001b[0m \u001b[0mcol_config\u001b[0m\u001b[0;34m)\u001b[0m\u001b[0;34m\u001b[0m\u001b[0;34m\u001b[0m\u001b[0m\n",
      "\u001b[0;31mNameError\u001b[0m: name 'RemoteServiceError' is not defined"
     ]
    }
   ],
   "source": [
    "tess_ffi, tess_time = get_TPF_TESS(ticid, ra, dec, int(get_sectors(ticid)[0].split(\",\")[0]))\n",
    "k2_ffi, k2_time = get_TPF_K2(epic, ra, dec)"
   ]
  },
  {
   "cell_type": "code",
   "execution_count": 157,
   "metadata": {},
   "outputs": [
    {
     "output_type": "execute_result",
     "data": {
      "text/plain": "<matplotlib.image.AxesImage at 0x7f970a973550>"
     },
     "metadata": {},
     "execution_count": 157
    },
    {
     "output_type": "display_data",
     "data": {
      "text/plain": "<Figure size 432x288 with 1 Axes>",
      "image/svg+xml": "<?xml version=\"1.0\" encoding=\"utf-8\" standalone=\"no\"?>\n<!DOCTYPE svg PUBLIC \"-//W3C//DTD SVG 1.1//EN\"\n  \"http://www.w3.org/Graphics/SVG/1.1/DTD/svg11.dtd\">\n<!-- Created with matplotlib (https://matplotlib.org/) -->\n<svg height=\"248.518125pt\" version=\"1.1\" viewBox=\"0 0 261.105625 248.518125\" width=\"261.105625pt\" xmlns=\"http://www.w3.org/2000/svg\" xmlns:xlink=\"http://www.w3.org/1999/xlink\">\n <metadata>\n  <rdf:RDF xmlns:cc=\"http://creativecommons.org/ns#\" xmlns:dc=\"http://purl.org/dc/elements/1.1/\" xmlns:rdf=\"http://www.w3.org/1999/02/22-rdf-syntax-ns#\">\n   <cc:Work>\n    <dc:type rdf:resource=\"http://purl.org/dc/dcmitype/StillImage\"/>\n    <dc:date>2020-09-08T12:01:52.884932</dc:date>\n    <dc:format>image/svg+xml</dc:format>\n    <dc:creator>\n     <cc:Agent>\n      <dc:title>Matplotlib v3.3.1, https://matplotlib.org/</dc:title>\n     </cc:Agent>\n    </dc:creator>\n   </cc:Work>\n  </rdf:RDF>\n </metadata>\n <defs>\n  <style type=\"text/css\">*{stroke-linecap:butt;stroke-linejoin:round;}</style>\n </defs>\n <g id=\"figure_1\">\n  <g id=\"patch_1\">\n   <path d=\"M 0 248.518125 \nL 261.105625 248.518125 \nL 261.105625 0 \nL 0 0 \nz\n\" style=\"fill:none;\"/>\n  </g>\n  <g id=\"axes_1\">\n   <g id=\"patch_2\">\n    <path d=\"M 36.465625 224.64 \nL 253.905625 224.64 \nL 253.905625 7.2 \nL 36.465625 7.2 \nz\n\" style=\"fill:#ffffff;\"/>\n   </g>\n   <g clip-path=\"url(#p2c9c92db51)\">\n    <image height=\"218\" id=\"imagee8c113ae86\" transform=\"scale(1 -1)translate(0 -218)\" width=\"218\" x=\"36.465625\" xlink:href=\"data:image/png;base64,\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\" y=\"-6.64\"/>\n   </g>\n   <g id=\"matplotlib.axis_1\">\n    <g id=\"xtick_1\">\n     <g id=\"line2d_1\">\n      <defs>\n       <path d=\"M 0 0 \nL 0 3.5 \n\" id=\"m5d55456f71\" style=\"stroke:#000000;stroke-width:0.8;\"/>\n      </defs>\n      <g>\n       <use style=\"stroke:#000000;stroke-width:0.8;\" x=\"41.901625\" xlink:href=\"#m5d55456f71\" y=\"224.64\"/>\n      </g>\n     </g>\n     <g id=\"text_1\">\n      <!-- 0 -->\n      <g transform=\"translate(38.720375 239.238438)scale(0.1 -0.1)\">\n       <defs>\n        <path d=\"M 31.78125 66.40625 \nQ 24.171875 66.40625 20.328125 58.90625 \nQ 16.5 51.421875 16.5 36.375 \nQ 16.5 21.390625 20.328125 13.890625 \nQ 24.171875 6.390625 31.78125 6.390625 \nQ 39.453125 6.390625 43.28125 13.890625 \nQ 47.125 21.390625 47.125 36.375 \nQ 47.125 51.421875 43.28125 58.90625 \nQ 39.453125 66.40625 31.78125 66.40625 \nz\nM 31.78125 74.21875 \nQ 44.046875 74.21875 50.515625 64.515625 \nQ 56.984375 54.828125 56.984375 36.375 \nQ 56.984375 17.96875 50.515625 8.265625 \nQ 44.046875 -1.421875 31.78125 -1.421875 \nQ 19.53125 -1.421875 13.0625 8.265625 \nQ 6.59375 17.96875 6.59375 36.375 \nQ 6.59375 54.828125 13.0625 64.515625 \nQ 19.53125 74.21875 31.78125 74.21875 \nz\n\" id=\"DejaVuSans-48\"/>\n       </defs>\n       <use xlink:href=\"#DejaVuSans-48\"/>\n      </g>\n     </g>\n    </g>\n    <g id=\"xtick_2\">\n     <g id=\"line2d_2\">\n      <g>\n       <use style=\"stroke:#000000;stroke-width:0.8;\" x=\"96.261625\" xlink:href=\"#m5d55456f71\" y=\"224.64\"/>\n      </g>\n     </g>\n     <g id=\"text_2\">\n      <!-- 5 -->\n      <g transform=\"translate(93.080375 239.238438)scale(0.1 -0.1)\">\n       <defs>\n        <path d=\"M 10.796875 72.90625 \nL 49.515625 72.90625 \nL 49.515625 64.59375 \nL 19.828125 64.59375 \nL 19.828125 46.734375 \nQ 21.96875 47.46875 24.109375 47.828125 \nQ 26.265625 48.1875 28.421875 48.1875 \nQ 40.625 48.1875 47.75 41.5 \nQ 54.890625 34.8125 54.890625 23.390625 \nQ 54.890625 11.625 47.5625 5.09375 \nQ 40.234375 -1.421875 26.90625 -1.421875 \nQ 22.3125 -1.421875 17.546875 -0.640625 \nQ 12.796875 0.140625 7.71875 1.703125 \nL 7.71875 11.625 \nQ 12.109375 9.234375 16.796875 8.0625 \nQ 21.484375 6.890625 26.703125 6.890625 \nQ 35.15625 6.890625 40.078125 11.328125 \nQ 45.015625 15.765625 45.015625 23.390625 \nQ 45.015625 31 40.078125 35.4375 \nQ 35.15625 39.890625 26.703125 39.890625 \nQ 22.75 39.890625 18.8125 39.015625 \nQ 14.890625 38.140625 10.796875 36.28125 \nz\n\" id=\"DejaVuSans-53\"/>\n       </defs>\n       <use xlink:href=\"#DejaVuSans-53\"/>\n      </g>\n     </g>\n    </g>\n    <g id=\"xtick_3\">\n     <g id=\"line2d_3\">\n      <g>\n       <use style=\"stroke:#000000;stroke-width:0.8;\" x=\"150.621625\" xlink:href=\"#m5d55456f71\" y=\"224.64\"/>\n      </g>\n     </g>\n     <g id=\"text_3\">\n      <!-- 10 -->\n      <g transform=\"translate(144.259125 239.238438)scale(0.1 -0.1)\">\n       <defs>\n        <path d=\"M 12.40625 8.296875 \nL 28.515625 8.296875 \nL 28.515625 63.921875 \nL 10.984375 60.40625 \nL 10.984375 69.390625 \nL 28.421875 72.90625 \nL 38.28125 72.90625 \nL 38.28125 8.296875 \nL 54.390625 8.296875 \nL 54.390625 0 \nL 12.40625 0 \nz\n\" id=\"DejaVuSans-49\"/>\n       </defs>\n       <use xlink:href=\"#DejaVuSans-49\"/>\n       <use x=\"63.623047\" xlink:href=\"#DejaVuSans-48\"/>\n      </g>\n     </g>\n    </g>\n    <g id=\"xtick_4\">\n     <g id=\"line2d_4\">\n      <g>\n       <use style=\"stroke:#000000;stroke-width:0.8;\" x=\"204.981625\" xlink:href=\"#m5d55456f71\" y=\"224.64\"/>\n      </g>\n     </g>\n     <g id=\"text_4\">\n      <!-- 15 -->\n      <g transform=\"translate(198.619125 239.238438)scale(0.1 -0.1)\">\n       <use xlink:href=\"#DejaVuSans-49\"/>\n       <use x=\"63.623047\" xlink:href=\"#DejaVuSans-53\"/>\n      </g>\n     </g>\n    </g>\n   </g>\n   <g id=\"matplotlib.axis_2\">\n    <g id=\"ytick_1\">\n     <g id=\"line2d_5\">\n      <defs>\n       <path d=\"M 0 0 \nL -3.5 0 \n\" id=\"mef616e2537\" style=\"stroke:#000000;stroke-width:0.8;\"/>\n      </defs>\n      <g>\n       <use style=\"stroke:#000000;stroke-width:0.8;\" x=\"36.465625\" xlink:href=\"#mef616e2537\" y=\"12.636\"/>\n      </g>\n     </g>\n     <g id=\"text_5\">\n      <!-- 0.0 -->\n      <g transform=\"translate(13.5625 16.435219)scale(0.1 -0.1)\">\n       <defs>\n        <path d=\"M 10.6875 12.40625 \nL 21 12.40625 \nL 21 0 \nL 10.6875 0 \nz\n\" id=\"DejaVuSans-46\"/>\n       </defs>\n       <use xlink:href=\"#DejaVuSans-48\"/>\n       <use x=\"63.623047\" xlink:href=\"#DejaVuSans-46\"/>\n       <use x=\"95.410156\" xlink:href=\"#DejaVuSans-48\"/>\n      </g>\n     </g>\n    </g>\n    <g id=\"ytick_2\">\n     <g id=\"line2d_6\">\n      <g>\n       <use style=\"stroke:#000000;stroke-width:0.8;\" x=\"36.465625\" xlink:href=\"#mef616e2537\" y=\"39.816\"/>\n      </g>\n     </g>\n     <g id=\"text_6\">\n      <!-- 2.5 -->\n      <g transform=\"translate(13.5625 43.615219)scale(0.1 -0.1)\">\n       <defs>\n        <path d=\"M 19.1875 8.296875 \nL 53.609375 8.296875 \nL 53.609375 0 \nL 7.328125 0 \nL 7.328125 8.296875 \nQ 12.9375 14.109375 22.625 23.890625 \nQ 32.328125 33.6875 34.8125 36.53125 \nQ 39.546875 41.84375 41.421875 45.53125 \nQ 43.3125 49.21875 43.3125 52.78125 \nQ 43.3125 58.59375 39.234375 62.25 \nQ 35.15625 65.921875 28.609375 65.921875 \nQ 23.96875 65.921875 18.8125 64.3125 \nQ 13.671875 62.703125 7.8125 59.421875 \nL 7.8125 69.390625 \nQ 13.765625 71.78125 18.9375 73 \nQ 24.125 74.21875 28.421875 74.21875 \nQ 39.75 74.21875 46.484375 68.546875 \nQ 53.21875 62.890625 53.21875 53.421875 \nQ 53.21875 48.921875 51.53125 44.890625 \nQ 49.859375 40.875 45.40625 35.40625 \nQ 44.1875 33.984375 37.640625 27.21875 \nQ 31.109375 20.453125 19.1875 8.296875 \nz\n\" id=\"DejaVuSans-50\"/>\n       </defs>\n       <use xlink:href=\"#DejaVuSans-50\"/>\n       <use x=\"63.623047\" xlink:href=\"#DejaVuSans-46\"/>\n       <use x=\"95.410156\" xlink:href=\"#DejaVuSans-53\"/>\n      </g>\n     </g>\n    </g>\n    <g id=\"ytick_3\">\n     <g id=\"line2d_7\">\n      <g>\n       <use style=\"stroke:#000000;stroke-width:0.8;\" x=\"36.465625\" xlink:href=\"#mef616e2537\" y=\"66.996\"/>\n      </g>\n     </g>\n     <g id=\"text_7\">\n      <!-- 5.0 -->\n      <g transform=\"translate(13.5625 70.795219)scale(0.1 -0.1)\">\n       <use xlink:href=\"#DejaVuSans-53\"/>\n       <use x=\"63.623047\" xlink:href=\"#DejaVuSans-46\"/>\n       <use x=\"95.410156\" xlink:href=\"#DejaVuSans-48\"/>\n      </g>\n     </g>\n    </g>\n    <g id=\"ytick_4\">\n     <g id=\"line2d_8\">\n      <g>\n       <use style=\"stroke:#000000;stroke-width:0.8;\" x=\"36.465625\" xlink:href=\"#mef616e2537\" y=\"94.176\"/>\n      </g>\n     </g>\n     <g id=\"text_8\">\n      <!-- 7.5 -->\n      <g transform=\"translate(13.5625 97.975219)scale(0.1 -0.1)\">\n       <defs>\n        <path d=\"M 8.203125 72.90625 \nL 55.078125 72.90625 \nL 55.078125 68.703125 \nL 28.609375 0 \nL 18.3125 0 \nL 43.21875 64.59375 \nL 8.203125 64.59375 \nz\n\" id=\"DejaVuSans-55\"/>\n       </defs>\n       <use xlink:href=\"#DejaVuSans-55\"/>\n       <use x=\"63.623047\" xlink:href=\"#DejaVuSans-46\"/>\n       <use x=\"95.410156\" xlink:href=\"#DejaVuSans-53\"/>\n      </g>\n     </g>\n    </g>\n    <g id=\"ytick_5\">\n     <g id=\"line2d_9\">\n      <g>\n       <use style=\"stroke:#000000;stroke-width:0.8;\" x=\"36.465625\" xlink:href=\"#mef616e2537\" y=\"121.356\"/>\n      </g>\n     </g>\n     <g id=\"text_9\">\n      <!-- 10.0 -->\n      <g transform=\"translate(7.2 125.155219)scale(0.1 -0.1)\">\n       <use xlink:href=\"#DejaVuSans-49\"/>\n       <use x=\"63.623047\" xlink:href=\"#DejaVuSans-48\"/>\n       <use x=\"127.246094\" xlink:href=\"#DejaVuSans-46\"/>\n       <use x=\"159.033203\" xlink:href=\"#DejaVuSans-48\"/>\n      </g>\n     </g>\n    </g>\n    <g id=\"ytick_6\">\n     <g id=\"line2d_10\">\n      <g>\n       <use style=\"stroke:#000000;stroke-width:0.8;\" x=\"36.465625\" xlink:href=\"#mef616e2537\" y=\"148.536\"/>\n      </g>\n     </g>\n     <g id=\"text_10\">\n      <!-- 12.5 -->\n      <g transform=\"translate(7.2 152.335219)scale(0.1 -0.1)\">\n       <use xlink:href=\"#DejaVuSans-49\"/>\n       <use x=\"63.623047\" xlink:href=\"#DejaVuSans-50\"/>\n       <use x=\"127.246094\" xlink:href=\"#DejaVuSans-46\"/>\n       <use x=\"159.033203\" xlink:href=\"#DejaVuSans-53\"/>\n      </g>\n     </g>\n    </g>\n    <g id=\"ytick_7\">\n     <g id=\"line2d_11\">\n      <g>\n       <use style=\"stroke:#000000;stroke-width:0.8;\" x=\"36.465625\" xlink:href=\"#mef616e2537\" y=\"175.716\"/>\n      </g>\n     </g>\n     <g id=\"text_11\">\n      <!-- 15.0 -->\n      <g transform=\"translate(7.2 179.515219)scale(0.1 -0.1)\">\n       <use xlink:href=\"#DejaVuSans-49\"/>\n       <use x=\"63.623047\" xlink:href=\"#DejaVuSans-53\"/>\n       <use x=\"127.246094\" xlink:href=\"#DejaVuSans-46\"/>\n       <use x=\"159.033203\" xlink:href=\"#DejaVuSans-48\"/>\n      </g>\n     </g>\n    </g>\n    <g id=\"ytick_8\">\n     <g id=\"line2d_12\">\n      <g>\n       <use style=\"stroke:#000000;stroke-width:0.8;\" x=\"36.465625\" xlink:href=\"#mef616e2537\" y=\"202.896\"/>\n      </g>\n     </g>\n     <g id=\"text_12\">\n      <!-- 17.5 -->\n      <g transform=\"translate(7.2 206.695219)scale(0.1 -0.1)\">\n       <use xlink:href=\"#DejaVuSans-49\"/>\n       <use x=\"63.623047\" xlink:href=\"#DejaVuSans-55\"/>\n       <use x=\"127.246094\" xlink:href=\"#DejaVuSans-46\"/>\n       <use x=\"159.033203\" xlink:href=\"#DejaVuSans-53\"/>\n      </g>\n     </g>\n    </g>\n   </g>\n   <g id=\"patch_3\">\n    <path d=\"M 36.465625 224.64 \nL 36.465625 7.2 \n\" style=\"fill:none;stroke:#000000;stroke-linecap:square;stroke-linejoin:miter;stroke-width:0.8;\"/>\n   </g>\n   <g id=\"patch_4\">\n    <path d=\"M 253.905625 224.64 \nL 253.905625 7.2 \n\" style=\"fill:none;stroke:#000000;stroke-linecap:square;stroke-linejoin:miter;stroke-width:0.8;\"/>\n   </g>\n   <g id=\"patch_5\">\n    <path d=\"M 36.465625 224.64 \nL 253.905625 224.64 \n\" style=\"fill:none;stroke:#000000;stroke-linecap:square;stroke-linejoin:miter;stroke-width:0.8;\"/>\n   </g>\n   <g id=\"patch_6\">\n    <path d=\"M 36.465625 7.2 \nL 253.905625 7.2 \n\" style=\"fill:none;stroke:#000000;stroke-linecap:square;stroke-linejoin:miter;stroke-width:0.8;\"/>\n   </g>\n  </g>\n </g>\n <defs>\n  <clipPath id=\"p2c9c92db51\">\n   <rect height=\"217.44\" width=\"217.44\" x=\"36.465625\" y=\"7.2\"/>\n  </clipPath>\n </defs>\n</svg>\n",
      "image/png": "[encoded data removed]"
     },
     "metadata": {
      "needs_background": "light"
     }
    }
   ],
   "source": [
    "plt.imshow(np.log10(tess_ffi[0]))"
   ]
  },
  {
   "cell_type": "code",
   "execution_count": 150,
   "metadata": {},
   "outputs": [],
   "source": [
    "df = Catalogs.query_object(\"EPIC\"+str(epic), radius=0.0001, catalog=\"TIC\").to_pandas()"
   ]
  },
  {
   "cell_type": "code",
   "execution_count": 156,
   "metadata": {},
   "outputs": [
    {
     "output_type": "execute_result",
     "data": {
      "text/plain": "        ID          ra       dec     pmRA    pmDEC    Tmag objType  typeSrc  \\\n0  4579916  348.407597 -11.74935  6.87541 -5.47881  8.2144    STAR  tmgaia2   \n\n    version  HIP  ... splists      e_RA     e_Dec     RA_orig   Dec_orig  \\\n0  20190415  NaN  ...     NaN  1.251786  0.927743  348.407627 -11.749374   \n\n  e_RA_orig e_Dec_orig raddflag wdflag  dstArcSec  \n0  0.053077   0.031763        0      0   0.032403  \n\n[1 rows x 125 columns]",
      "text/html": "<div>\n<style scoped>\n    .dataframe tbody tr th:only-of-type {\n        vertical-align: middle;\n    }\n\n    .dataframe tbody tr th {\n        vertical-align: top;\n    }\n\n    .dataframe thead th {\n        text-align: right;\n    }\n</style>\n<table border=\"1\" class=\"dataframe\">\n  <thead>\n    <tr style=\"text-align: right;\">\n      <th></th>\n      <th>ID</th>\n      <th>ra</th>\n      <th>dec</th>\n      <th>pmRA</th>\n      <th>pmDEC</th>\n      <th>Tmag</th>\n      <th>objType</th>\n      <th>typeSrc</th>\n      <th>version</th>\n      <th>HIP</th>\n      <th>...</th>\n      <th>splists</th>\n      <th>e_RA</th>\n      <th>e_Dec</th>\n      <th>RA_orig</th>\n      <th>Dec_orig</th>\n      <th>e_RA_orig</th>\n      <th>e_Dec_orig</th>\n      <th>raddflag</th>\n      <th>wdflag</th>\n      <th>dstArcSec</th>\n    </tr>\n  </thead>\n  <tbody>\n    <tr>\n      <th>0</th>\n      <td>4579916</td>\n      <td>348.407597</td>\n      <td>-11.74935</td>\n      <td>6.87541</td>\n      <td>-5.47881</td>\n      <td>8.2144</td>\n      <td>STAR</td>\n      <td>tmgaia2</td>\n      <td>20190415</td>\n      <td>NaN</td>\n      <td>...</td>\n      <td>NaN</td>\n      <td>1.251786</td>\n      <td>0.927743</td>\n      <td>348.407627</td>\n      <td>-11.749374</td>\n      <td>0.053077</td>\n      <td>0.031763</td>\n      <td>0</td>\n      <td>0</td>\n      <td>0.032403</td>\n    </tr>\n  </tbody>\n</table>\n<p>1 rows × 125 columns</p>\n</div>"
     },
     "metadata": {},
     "execution_count": 156
    }
   ],
   "source": [
    "df"
   ]
  },
  {
   "cell_type": "code",
   "execution_count": null,
   "metadata": {},
   "outputs": [],
   "source": []
  }
 ]
}